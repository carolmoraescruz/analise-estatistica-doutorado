{
 "cells": [
  {
   "cell_type": "code",
   "execution_count": 1,
   "metadata": {},
   "outputs": [
    {
     "name": "stderr",
     "output_type": "stream",
     "text": [
      "C:\\Users\\Dell\\Anaconda3\\lib\\site-packages\\statsmodels\\tools\\_testing.py:19: FutureWarning: pandas.util.testing is deprecated. Use the functions in the public API at pandas.testing instead.\n",
      "  import pandas.util.testing as tm\n"
     ]
    }
   ],
   "source": [
    "import pandas as pd\n",
    "import seaborn as sns\n",
    "import matplotlib.pyplot as plt\n",
    "\n",
    "sns.set_style('ticks')"
   ]
  },
  {
   "cell_type": "markdown",
   "metadata": {},
   "source": [
    "## Gráficos unificados - 7, 28 e 91 dias"
   ]
  },
  {
   "cell_type": "code",
   "execution_count": 2,
   "metadata": {},
   "outputs": [
    {
     "data": {
      "text/html": [
       "<div>\n",
       "<style scoped>\n",
       "    .dataframe tbody tr th:only-of-type {\n",
       "        vertical-align: middle;\n",
       "    }\n",
       "\n",
       "    .dataframe tbody tr th {\n",
       "        vertical-align: top;\n",
       "    }\n",
       "\n",
       "    .dataframe thead th {\n",
       "        text-align: right;\n",
       "    }\n",
       "</style>\n",
       "<table border=\"1\" class=\"dataframe\">\n",
       "  <thead>\n",
       "    <tr style=\"text-align: right;\">\n",
       "      <th></th>\n",
       "      <th>Fórmula</th>\n",
       "      <th>Dias</th>\n",
       "      <th>MEA</th>\n",
       "    </tr>\n",
       "  </thead>\n",
       "  <tbody>\n",
       "    <tr>\n",
       "      <th>0</th>\n",
       "      <td>A_N</td>\n",
       "      <td>7</td>\n",
       "      <td>2.16</td>\n",
       "    </tr>\n",
       "    <tr>\n",
       "      <th>1</th>\n",
       "      <td>A_N</td>\n",
       "      <td>7</td>\n",
       "      <td>2.16</td>\n",
       "    </tr>\n",
       "    <tr>\n",
       "      <th>2</th>\n",
       "      <td>A_N</td>\n",
       "      <td>7</td>\n",
       "      <td>2.18</td>\n",
       "    </tr>\n",
       "    <tr>\n",
       "      <th>3</th>\n",
       "      <td>A_N</td>\n",
       "      <td>7</td>\n",
       "      <td>2.18</td>\n",
       "    </tr>\n",
       "    <tr>\n",
       "      <th>4</th>\n",
       "      <td>AQ_0.5</td>\n",
       "      <td>7</td>\n",
       "      <td>2.16</td>\n",
       "    </tr>\n",
       "    <tr>\n",
       "      <th>...</th>\n",
       "      <td>...</td>\n",
       "      <td>...</td>\n",
       "      <td>...</td>\n",
       "    </tr>\n",
       "    <tr>\n",
       "      <th>73</th>\n",
       "      <td>AQ_1.5</td>\n",
       "      <td>91</td>\n",
       "      <td>2.10</td>\n",
       "    </tr>\n",
       "    <tr>\n",
       "      <th>74</th>\n",
       "      <td>AQ_1.5</td>\n",
       "      <td>91</td>\n",
       "      <td>2.14</td>\n",
       "    </tr>\n",
       "    <tr>\n",
       "      <th>75</th>\n",
       "      <td>AQ_1.5C</td>\n",
       "      <td>91</td>\n",
       "      <td>2.14</td>\n",
       "    </tr>\n",
       "    <tr>\n",
       "      <th>76</th>\n",
       "      <td>AQ_1.5C</td>\n",
       "      <td>91</td>\n",
       "      <td>2.11</td>\n",
       "    </tr>\n",
       "    <tr>\n",
       "      <th>77</th>\n",
       "      <td>AQ_1.5C</td>\n",
       "      <td>91</td>\n",
       "      <td>2.15</td>\n",
       "    </tr>\n",
       "  </tbody>\n",
       "</table>\n",
       "<p>78 rows × 3 columns</p>\n",
       "</div>"
      ],
      "text/plain": [
       "    Fórmula  Dias   MEA\n",
       "0       A_N     7  2.16\n",
       "1       A_N     7  2.16\n",
       "2       A_N     7  2.18\n",
       "3       A_N     7  2.18\n",
       "4    AQ_0.5     7  2.16\n",
       "..      ...   ...   ...\n",
       "73   AQ_1.5    91  2.10\n",
       "74   AQ_1.5    91  2.14\n",
       "75  AQ_1.5C    91  2.14\n",
       "76  AQ_1.5C    91  2.11\n",
       "77  AQ_1.5C    91  2.15\n",
       "\n",
       "[78 rows x 3 columns]"
      ]
     },
     "execution_count": 2,
     "metadata": {},
     "output_type": "execute_result"
    }
   ],
   "source": [
    "mea_port = pd.read_csv(\"MEA_port.csv\")\n",
    "rfta_port = pd.read_csv(\"RFTA_port.csv\")\n",
    "rcta_port = pd.read_csv(\"RCTA_port.csv\")\n",
    "mea_port"
   ]
  },
  {
   "cell_type": "code",
   "execution_count": 4,
   "metadata": {},
   "outputs": [
    {
     "data": {
      "image/png": "[encoded data removed]",
      "text/plain": [
       "<Figure size 767.25x360 with 1 Axes>"
      ]
     },
     "metadata": {
      "needs_background": "light"
     },
     "output_type": "display_data"
    }
   ],
   "source": [
    "sns.catplot(\n",
    "    data=mea_port,\n",
    "    kind=\"bar\",\n",
    "    x=\"Fórmula\",\n",
    "    y=\"MEA\",\n",
    "    hue=\"Dias\",\n",
    "    ci=\"sd\",\n",
    "    palette=\"Greys\",\n",
    "    alpha=0.7,\n",
    "    capsize=0.1,\n",
    "    errwidth=0.8,\n",
    "    height=5,\n",
    "    aspect=2,\n",
    ")\n",
    "plt.ylabel(\"DA (g/cm³)\")\n",
    "plt.ylim([1.8, 2.3])\n",
    "plt.savefig(\"DA - final.svg\")\n",
    "plt.show()"
   ]
  },
  {
   "cell_type": "code",
   "execution_count": 5,
   "metadata": {},
   "outputs": [
    {
     "data": {
      "image/png": "[encoded data removed]",
      "text/plain": [
       "<Figure size 767.25x360 with 1 Axes>"
      ]
     },
     "metadata": {
      "needs_background": "light"
     },
     "output_type": "display_data"
    }
   ],
   "source": [
    "sns.catplot(\n",
    "    data=rfta_port,\n",
    "    kind=\"bar\",\n",
    "    x=\"Fórmula\",\n",
    "    y=\"RFTA\",\n",
    "    hue=\"Dias\",\n",
    "    ci=\"sd\",\n",
    "    palette=\"Greys\",\n",
    "    alpha=0.7,\n",
    "    capsize=0.1,\n",
    "    errwidth=0.8,\n",
    "    height=5,\n",
    "    aspect=2,\n",
    ")\n",
    "plt.ylabel(\"RFTA (MPa)\")\n",
    "plt.savefig(\"RFTA - final.svg\")\n",
    "plt.show()"
   ]
  },
  {
   "cell_type": "code",
   "execution_count": 6,
   "metadata": {},
   "outputs": [
    {
     "data": {
      "image/png": "[encoded data removed]",
      "text/plain": [
       "<Figure size 767.25x360 with 1 Axes>"
      ]
     },
     "metadata": {
      "needs_background": "light"
     },
     "output_type": "display_data"
    }
   ],
   "source": [
    "sns.catplot(\n",
    "    data=rcta_port,\n",
    "    kind=\"bar\",\n",
    "    x=\"Fórmula\",\n",
    "    y=\"RCTA\",\n",
    "    hue=\"Dias\",\n",
    "    ci=\"sd\",\n",
    "    palette=\"Greys\",\n",
    "    alpha=0.7,\n",
    "    capsize=0.1,\n",
    "    errwidth=0.8,\n",
    "    height=5,\n",
    "    aspect=2,\n",
    ")\n",
    "plt.ylabel(\"RCTA (MPa)\")\n",
    "plt.savefig(\"RCTA - final.svg\")\n",
    "plt.show()"
   ]
  },
  {
   "cell_type": "markdown",
   "metadata": {},
   "source": [
    "## Gráficos do artigo (inglês) - 7, 28 e 91 dias"
   ]
  },
  {
   "cell_type": "code",
   "execution_count": 7,
   "metadata": {},
   "outputs": [
    {
     "data": {
      "text/html": [
       "<div>\n",
       "<style scoped>\n",
       "    .dataframe tbody tr th:only-of-type {\n",
       "        vertical-align: middle;\n",
       "    }\n",
       "\n",
       "    .dataframe tbody tr th {\n",
       "        vertical-align: top;\n",
       "    }\n",
       "\n",
       "    .dataframe thead th {\n",
       "        text-align: right;\n",
       "    }\n",
       "</style>\n",
       "<table border=\"1\" class=\"dataframe\">\n",
       "  <thead>\n",
       "    <tr style=\"text-align: right;\">\n",
       "      <th></th>\n",
       "      <th>Formulation</th>\n",
       "      <th>Days</th>\n",
       "      <th>MEA</th>\n",
       "    </tr>\n",
       "  </thead>\n",
       "  <tbody>\n",
       "    <tr>\n",
       "      <th>0</th>\n",
       "      <td>A_N</td>\n",
       "      <td>7</td>\n",
       "      <td>2.16</td>\n",
       "    </tr>\n",
       "    <tr>\n",
       "      <th>1</th>\n",
       "      <td>A_N</td>\n",
       "      <td>7</td>\n",
       "      <td>2.16</td>\n",
       "    </tr>\n",
       "    <tr>\n",
       "      <th>2</th>\n",
       "      <td>A_N</td>\n",
       "      <td>7</td>\n",
       "      <td>2.18</td>\n",
       "    </tr>\n",
       "    <tr>\n",
       "      <th>3</th>\n",
       "      <td>A_N</td>\n",
       "      <td>7</td>\n",
       "      <td>2.18</td>\n",
       "    </tr>\n",
       "    <tr>\n",
       "      <th>4</th>\n",
       "      <td>AQ_0.5</td>\n",
       "      <td>7</td>\n",
       "      <td>2.16</td>\n",
       "    </tr>\n",
       "    <tr>\n",
       "      <th>...</th>\n",
       "      <td>...</td>\n",
       "      <td>...</td>\n",
       "      <td>...</td>\n",
       "    </tr>\n",
       "    <tr>\n",
       "      <th>73</th>\n",
       "      <td>AQ_1.5</td>\n",
       "      <td>91</td>\n",
       "      <td>2.10</td>\n",
       "    </tr>\n",
       "    <tr>\n",
       "      <th>74</th>\n",
       "      <td>AQ_1.5</td>\n",
       "      <td>91</td>\n",
       "      <td>2.14</td>\n",
       "    </tr>\n",
       "    <tr>\n",
       "      <th>75</th>\n",
       "      <td>AQ_1.5C</td>\n",
       "      <td>91</td>\n",
       "      <td>2.14</td>\n",
       "    </tr>\n",
       "    <tr>\n",
       "      <th>76</th>\n",
       "      <td>AQ_1.5C</td>\n",
       "      <td>91</td>\n",
       "      <td>2.11</td>\n",
       "    </tr>\n",
       "    <tr>\n",
       "      <th>77</th>\n",
       "      <td>AQ_1.5C</td>\n",
       "      <td>91</td>\n",
       "      <td>2.15</td>\n",
       "    </tr>\n",
       "  </tbody>\n",
       "</table>\n",
       "<p>78 rows × 3 columns</p>\n",
       "</div>"
      ],
      "text/plain": [
       "   Formulation  Days   MEA\n",
       "0          A_N     7  2.16\n",
       "1          A_N     7  2.16\n",
       "2          A_N     7  2.18\n",
       "3          A_N     7  2.18\n",
       "4       AQ_0.5     7  2.16\n",
       "..         ...   ...   ...\n",
       "73      AQ_1.5    91  2.10\n",
       "74      AQ_1.5    91  2.14\n",
       "75     AQ_1.5C    91  2.14\n",
       "76     AQ_1.5C    91  2.11\n",
       "77     AQ_1.5C    91  2.15\n",
       "\n",
       "[78 rows x 3 columns]"
      ]
     },
     "execution_count": 7,
     "metadata": {},
     "output_type": "execute_result"
    }
   ],
   "source": [
    "mea_ingles = pd.read_csv(\"MEA_ingles.csv\")\n",
    "rfta_ingles = pd.read_csv(\"RFTA_ingles.csv\")\n",
    "rcta_ingles = pd.read_csv(\"RCTA_ingles.csv\")\n",
    "mea_ingles"
   ]
  },
  {
   "cell_type": "code",
   "execution_count": 8,
   "metadata": {},
   "outputs": [
    {
     "data": {
      "image/png": "[encoded data removed]",
      "text/plain": [
       "<Figure size 767.25x360 with 1 Axes>"
      ]
     },
     "metadata": {
      "needs_background": "light"
     },
     "output_type": "display_data"
    }
   ],
   "source": [
    "sns.catplot(\n",
    "    data=mea_ingles,\n",
    "    kind=\"bar\",\n",
    "    x=\"Formulation\",\n",
    "    y=\"MEA\",\n",
    "    hue=\"Days\",\n",
    "    ci=\"sd\",\n",
    "    palette=\"Greys\",\n",
    "    alpha=0.7,\n",
    "    capsize=0.1,\n",
    "    errwidth=0.8,\n",
    "    height=5,\n",
    "    aspect=2,\n",
    ")\n",
    "plt.ylabel(\"Density (g/cm³)\")\n",
    "plt.xlabel(\"Formulation\")\n",
    "plt.ylim([1.8, 2.3])\n",
    "plt.savefig(\"DA - final - ingles.svg\")\n",
    "plt.show()"
   ]
  },
  {
   "cell_type": "code",
   "execution_count": 9,
   "metadata": {},
   "outputs": [
    {
     "data": {
      "image/png": "[encoded data removed]",
      "text/plain": [
       "<Figure size 767.25x360 with 1 Axes>"
      ]
     },
     "metadata": {
      "needs_background": "light"
     },
     "output_type": "display_data"
    }
   ],
   "source": [
    "sns.catplot(\n",
    "    data=rfta_ingles,\n",
    "    kind=\"bar\",\n",
    "    x=\"Formulation\",\n",
    "    y=\"RFTA\",\n",
    "    hue=\"Days\",\n",
    "    ci=\"sd\",\n",
    "    palette=\"Greys\",\n",
    "    alpha=0.7,\n",
    "    capsize=0.1,\n",
    "    errwidth=0.8,\n",
    "    height=5,\n",
    "    aspect=2,\n",
    ")\n",
    "plt.ylabel(\"Flexural strength (MPa)\")\n",
    "plt.xlabel(\"Formulation\")\n",
    "plt.savefig(\"RFTA - final - ingles.svg\")\n",
    "plt.show()"
   ]
  },
  {
   "cell_type": "code",
   "execution_count": 10,
   "metadata": {},
   "outputs": [
    {
     "data": {
      "image/png": "[encoded data removed]",
      "text/plain": [
       "<Figure size 767.25x360 with 1 Axes>"
      ]
     },
     "metadata": {
      "needs_background": "light"
     },
     "output_type": "display_data"
    }
   ],
   "source": [
    "sns.catplot(\n",
    "    data=rcta_ingles,\n",
    "    kind=\"bar\",\n",
    "    x=\"Formulation\",\n",
    "    y=\"RCTA\",\n",
    "    hue=\"Days\",\n",
    "    ci=\"sd\",\n",
    "    palette=\"Greys\",\n",
    "    alpha=0.7,\n",
    "    capsize=0.1,\n",
    "    errwidth=0.8,\n",
    "    height=5,\n",
    "    aspect=2,\n",
    ")\n",
    "plt.ylabel(\"Compression strength (MPa)\")\n",
    "plt.xlabel(\"Formulation\")\n",
    "plt.savefig(\"RCTA - final - ingles.svg\")\n",
    "plt.show()"
   ]
  },
  {
   "cell_type": "code",
   "execution_count": null,
   "metadata": {},
   "outputs": [],
   "source": []
  }
 ],
 "metadata": {
  "kernelspec": {
   "display_name": "Python 3",
   "language": "python",
   "name": "python3"
  },
  "language_info": {
   "codemirror_mode": {
    "name": "ipython",
    "version": 3
   },
   "file_extension": ".py",
   "mimetype": "text/x-python",
   "name": "python",
   "nbconvert_exporter": "python",
   "pygments_lexer": "ipython3",
   "version": "3.7.4"
  }
 },
 "nbformat": 4,
 "nbformat_minor": 2
}
