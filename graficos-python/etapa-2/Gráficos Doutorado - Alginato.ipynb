{
 "cells": [
  {
   "cell_type": "code",
   "execution_count": 1,
   "metadata": {},
   "outputs": [
    {
     "name": "stderr",
     "output_type": "stream",
     "text": [
      "C:\\Users\\Dell\\Anaconda3\\lib\\site-packages\\statsmodels\\tools\\_testing.py:19: FutureWarning: pandas.util.testing is deprecated. Use the functions in the public API at pandas.testing instead.\n",
      "  import pandas.util.testing as tm\n"
     ]
    }
   ],
   "source": [
    "import pandas as pd\n",
    "import seaborn as sns\n",
    "import matplotlib.pyplot as plt\n",
    "\n",
    "sns.set_style('ticks')"
   ]
  },
  {
   "cell_type": "markdown",
   "metadata": {},
   "source": [
    "## Gráficos unificados - 7, 28 e 91 dias"
   ]
  },
  {
   "cell_type": "code",
   "execution_count": 2,
   "metadata": {},
   "outputs": [
    {
     "data": {
      "text/html": [
       "<div>\n",
       "<style scoped>\n",
       "    .dataframe tbody tr th:only-of-type {\n",
       "        vertical-align: middle;\n",
       "    }\n",
       "\n",
       "    .dataframe tbody tr th {\n",
       "        vertical-align: top;\n",
       "    }\n",
       "\n",
       "    .dataframe thead th {\n",
       "        text-align: right;\n",
       "    }\n",
       "</style>\n",
       "<table border=\"1\" class=\"dataframe\">\n",
       "  <thead>\n",
       "    <tr style=\"text-align: right;\">\n",
       "      <th></th>\n",
       "      <th>Fórmula</th>\n",
       "      <th>Dias</th>\n",
       "      <th>RCTA</th>\n",
       "    </tr>\n",
       "  </thead>\n",
       "  <tbody>\n",
       "    <tr>\n",
       "      <th>0</th>\n",
       "      <td>A_N</td>\n",
       "      <td>7</td>\n",
       "      <td>21.6</td>\n",
       "    </tr>\n",
       "    <tr>\n",
       "      <th>1</th>\n",
       "      <td>A_N</td>\n",
       "      <td>7</td>\n",
       "      <td>18.8</td>\n",
       "    </tr>\n",
       "    <tr>\n",
       "      <th>2</th>\n",
       "      <td>A_N</td>\n",
       "      <td>7</td>\n",
       "      <td>16.7</td>\n",
       "    </tr>\n",
       "    <tr>\n",
       "      <th>3</th>\n",
       "      <td>A_N</td>\n",
       "      <td>7</td>\n",
       "      <td>18.2</td>\n",
       "    </tr>\n",
       "    <tr>\n",
       "      <th>4</th>\n",
       "      <td>A_N</td>\n",
       "      <td>7</td>\n",
       "      <td>19.8</td>\n",
       "    </tr>\n",
       "    <tr>\n",
       "      <th>...</th>\n",
       "      <td>...</td>\n",
       "      <td>...</td>\n",
       "      <td>...</td>\n",
       "    </tr>\n",
       "    <tr>\n",
       "      <th>67</th>\n",
       "      <td>AA_1.0C</td>\n",
       "      <td>91</td>\n",
       "      <td>21.8</td>\n",
       "    </tr>\n",
       "    <tr>\n",
       "      <th>68</th>\n",
       "      <td>AA_1.0C</td>\n",
       "      <td>91</td>\n",
       "      <td>25.8</td>\n",
       "    </tr>\n",
       "    <tr>\n",
       "      <th>69</th>\n",
       "      <td>AA_1.0C</td>\n",
       "      <td>91</td>\n",
       "      <td>24.5</td>\n",
       "    </tr>\n",
       "    <tr>\n",
       "      <th>70</th>\n",
       "      <td>AA_1.0C</td>\n",
       "      <td>91</td>\n",
       "      <td>21.6</td>\n",
       "    </tr>\n",
       "    <tr>\n",
       "      <th>71</th>\n",
       "      <td>AA_1.0C</td>\n",
       "      <td>91</td>\n",
       "      <td>22.8</td>\n",
       "    </tr>\n",
       "  </tbody>\n",
       "</table>\n",
       "<p>72 rows × 3 columns</p>\n",
       "</div>"
      ],
      "text/plain": [
       "    Fórmula  Dias  RCTA\n",
       "0       A_N     7  21.6\n",
       "1       A_N     7  18.8\n",
       "2       A_N     7  16.7\n",
       "3       A_N     7  18.2\n",
       "4       A_N     7  19.8\n",
       "..      ...   ...   ...\n",
       "67  AA_1.0C    91  21.8\n",
       "68  AA_1.0C    91  25.8\n",
       "69  AA_1.0C    91  24.5\n",
       "70  AA_1.0C    91  21.6\n",
       "71  AA_1.0C    91  22.8\n",
       "\n",
       "[72 rows x 3 columns]"
      ]
     },
     "execution_count": 2,
     "metadata": {},
     "output_type": "execute_result"
    }
   ],
   "source": [
    "mea_etapa2 = pd.read_csv('mea_etapa2_port.csv')\n",
    "rfta_etapa2 = pd.read_csv('rfta_etapa2_port.csv')\n",
    "rcta_etapa2 = pd.read_csv('rcta_etapa2_port.csv')\n",
    "rcta_etapa2"
   ]
  },
  {
   "cell_type": "code",
   "execution_count": 3,
   "metadata": {},
   "outputs": [
    {
     "data": {
      "image/png": "[encoded data removed]",
      "text/plain": [
       "<Figure size 587.25x360 with 1 Axes>"
      ]
     },
     "metadata": {
      "needs_background": "light"
     },
     "output_type": "display_data"
    }
   ],
   "source": [
    "sns.catplot(\n",
    "    data=mea_etapa2,\n",
    "    kind=\"bar\",\n",
    "    x=\"Fórmula\",\n",
    "    y=\"MEA\",\n",
    "    hue=\"Dias\",\n",
    "    ci=\"sd\",\n",
    "    palette=\"Greys\",\n",
    "    alpha=0.7,\n",
    "    capsize=0.1,\n",
    "    errwidth=0.8,\n",
    "    height=5,\n",
    "    aspect=1.5,\n",
    ")\n",
    "plt.ylabel(\"DA (g/cm³)\")\n",
    "plt.ylim([1.8, 2.3])\n",
    "plt.savefig(\"MEA - etapa 2.svg\")\n",
    "plt.show()"
   ]
  },
  {
   "cell_type": "code",
   "execution_count": 4,
   "metadata": {},
   "outputs": [
    {
     "data": {
      "image/png": "[encoded data removed]",
      "text/plain": [
       "<Figure size 587.25x360 with 1 Axes>"
      ]
     },
     "metadata": {
      "needs_background": "light"
     },
     "output_type": "display_data"
    }
   ],
   "source": [
    "sns.catplot(\n",
    "    data=rfta_etapa2,\n",
    "    kind=\"bar\",\n",
    "    x=\"Fórmula\",\n",
    "    y=\"RFTA\",\n",
    "    hue=\"Dias\",\n",
    "    ci=\"sd\",\n",
    "    palette=\"Greys\",\n",
    "    alpha=0.7,\n",
    "    capsize=0.1,\n",
    "    errwidth=0.8,\n",
    "    height=5,\n",
    "    aspect=1.5,\n",
    ")\n",
    "plt.ylabel(\"RFTA (MPa)\")\n",
    "plt.savefig(\"RFTA - etapa 2.svg\")\n",
    "plt.show()"
   ]
  },
  {
   "cell_type": "code",
   "execution_count": 5,
   "metadata": {
    "scrolled": false
   },
   "outputs": [
    {
     "data": {
      "image/png": "[encoded data removed]",
      "text/plain": [
       "<Figure size 587.25x360 with 1 Axes>"
      ]
     },
     "metadata": {
      "needs_background": "light"
     },
     "output_type": "display_data"
    }
   ],
   "source": [
    "sns.catplot(\n",
    "    data=rcta_etapa2,\n",
    "    kind=\"bar\",\n",
    "    x=\"Fórmula\",\n",
    "    y=\"RCTA\",\n",
    "    hue=\"Dias\",\n",
    "    ci=\"sd\",\n",
    "    palette=\"Greys\",\n",
    "    alpha=0.7,\n",
    "    capsize=0.1,\n",
    "    errwidth=0.8,\n",
    "    height=5,\n",
    "    aspect=1.5,\n",
    ")\n",
    "plt.ylabel(\"RCTA (MPa)\")\n",
    "plt.savefig(\"RCTA - etapa 2.svg\")\n",
    "plt.show()"
   ]
  },
  {
   "cell_type": "markdown",
   "metadata": {},
   "source": [
    "## Gráficos do artigo (inglês) - 7, 28 e 91 dias"
   ]
  },
  {
   "cell_type": "code",
   "execution_count": 6,
   "metadata": {},
   "outputs": [
    {
     "data": {
      "text/html": [
       "<div>\n",
       "<style scoped>\n",
       "    .dataframe tbody tr th:only-of-type {\n",
       "        vertical-align: middle;\n",
       "    }\n",
       "\n",
       "    .dataframe tbody tr th {\n",
       "        vertical-align: top;\n",
       "    }\n",
       "\n",
       "    .dataframe thead th {\n",
       "        text-align: right;\n",
       "    }\n",
       "</style>\n",
       "<table border=\"1\" class=\"dataframe\">\n",
       "  <thead>\n",
       "    <tr style=\"text-align: right;\">\n",
       "      <th></th>\n",
       "      <th>Formula</th>\n",
       "      <th>Days</th>\n",
       "      <th>MEA</th>\n",
       "    </tr>\n",
       "  </thead>\n",
       "  <tbody>\n",
       "    <tr>\n",
       "      <th>0</th>\n",
       "      <td>A_N</td>\n",
       "      <td>7</td>\n",
       "      <td>2.16</td>\n",
       "    </tr>\n",
       "    <tr>\n",
       "      <th>1</th>\n",
       "      <td>A_N</td>\n",
       "      <td>7</td>\n",
       "      <td>2.16</td>\n",
       "    </tr>\n",
       "    <tr>\n",
       "      <th>2</th>\n",
       "      <td>A_N</td>\n",
       "      <td>7</td>\n",
       "      <td>2.18</td>\n",
       "    </tr>\n",
       "    <tr>\n",
       "      <th>3</th>\n",
       "      <td>A_N</td>\n",
       "      <td>7</td>\n",
       "      <td>2.18</td>\n",
       "    </tr>\n",
       "    <tr>\n",
       "      <th>4</th>\n",
       "      <td>AA_0.5C</td>\n",
       "      <td>7</td>\n",
       "      <td>2.16</td>\n",
       "    </tr>\n",
       "    <tr>\n",
       "      <th>5</th>\n",
       "      <td>AA_0.5C</td>\n",
       "      <td>7</td>\n",
       "      <td>2.17</td>\n",
       "    </tr>\n",
       "    <tr>\n",
       "      <th>6</th>\n",
       "      <td>AA_0.5C</td>\n",
       "      <td>7</td>\n",
       "      <td>2.16</td>\n",
       "    </tr>\n",
       "    <tr>\n",
       "      <th>7</th>\n",
       "      <td>AA_0.5C</td>\n",
       "      <td>7</td>\n",
       "      <td>2.16</td>\n",
       "    </tr>\n",
       "    <tr>\n",
       "      <th>8</th>\n",
       "      <td>AA_1.0C</td>\n",
       "      <td>7</td>\n",
       "      <td>2.16</td>\n",
       "    </tr>\n",
       "    <tr>\n",
       "      <th>9</th>\n",
       "      <td>AA_1.0C</td>\n",
       "      <td>7</td>\n",
       "      <td>2.13</td>\n",
       "    </tr>\n",
       "    <tr>\n",
       "      <th>10</th>\n",
       "      <td>AA_1.0C</td>\n",
       "      <td>7</td>\n",
       "      <td>2.16</td>\n",
       "    </tr>\n",
       "    <tr>\n",
       "      <th>11</th>\n",
       "      <td>AA_1.0C</td>\n",
       "      <td>7</td>\n",
       "      <td>2.15</td>\n",
       "    </tr>\n",
       "    <tr>\n",
       "      <th>12</th>\n",
       "      <td>A_N</td>\n",
       "      <td>28</td>\n",
       "      <td>2.15</td>\n",
       "    </tr>\n",
       "    <tr>\n",
       "      <th>13</th>\n",
       "      <td>A_N</td>\n",
       "      <td>28</td>\n",
       "      <td>2.16</td>\n",
       "    </tr>\n",
       "    <tr>\n",
       "      <th>14</th>\n",
       "      <td>A_N</td>\n",
       "      <td>28</td>\n",
       "      <td>2.14</td>\n",
       "    </tr>\n",
       "    <tr>\n",
       "      <th>15</th>\n",
       "      <td>A_N</td>\n",
       "      <td>28</td>\n",
       "      <td>2.16</td>\n",
       "    </tr>\n",
       "    <tr>\n",
       "      <th>16</th>\n",
       "      <td>AA_0.5C</td>\n",
       "      <td>28</td>\n",
       "      <td>2.16</td>\n",
       "    </tr>\n",
       "    <tr>\n",
       "      <th>17</th>\n",
       "      <td>AA_0.5C</td>\n",
       "      <td>28</td>\n",
       "      <td>2.18</td>\n",
       "    </tr>\n",
       "    <tr>\n",
       "      <th>18</th>\n",
       "      <td>AA_0.5C</td>\n",
       "      <td>28</td>\n",
       "      <td>2.16</td>\n",
       "    </tr>\n",
       "    <tr>\n",
       "      <th>19</th>\n",
       "      <td>AA_0.5C</td>\n",
       "      <td>28</td>\n",
       "      <td>2.18</td>\n",
       "    </tr>\n",
       "    <tr>\n",
       "      <th>20</th>\n",
       "      <td>AA_1.0C</td>\n",
       "      <td>28</td>\n",
       "      <td>2.16</td>\n",
       "    </tr>\n",
       "    <tr>\n",
       "      <th>21</th>\n",
       "      <td>AA_1.0C</td>\n",
       "      <td>28</td>\n",
       "      <td>2.15</td>\n",
       "    </tr>\n",
       "    <tr>\n",
       "      <th>22</th>\n",
       "      <td>AA_1.0C</td>\n",
       "      <td>28</td>\n",
       "      <td>2.18</td>\n",
       "    </tr>\n",
       "    <tr>\n",
       "      <th>23</th>\n",
       "      <td>AA_1.0C</td>\n",
       "      <td>28</td>\n",
       "      <td>2.20</td>\n",
       "    </tr>\n",
       "    <tr>\n",
       "      <th>24</th>\n",
       "      <td>A_N</td>\n",
       "      <td>91</td>\n",
       "      <td>2.16</td>\n",
       "    </tr>\n",
       "    <tr>\n",
       "      <th>25</th>\n",
       "      <td>A_N</td>\n",
       "      <td>91</td>\n",
       "      <td>2.19</td>\n",
       "    </tr>\n",
       "    <tr>\n",
       "      <th>26</th>\n",
       "      <td>A_N</td>\n",
       "      <td>91</td>\n",
       "      <td>2.18</td>\n",
       "    </tr>\n",
       "    <tr>\n",
       "      <th>27</th>\n",
       "      <td>A_N</td>\n",
       "      <td>91</td>\n",
       "      <td>2.14</td>\n",
       "    </tr>\n",
       "    <tr>\n",
       "      <th>28</th>\n",
       "      <td>AA_0.5C</td>\n",
       "      <td>91</td>\n",
       "      <td>2.18</td>\n",
       "    </tr>\n",
       "    <tr>\n",
       "      <th>29</th>\n",
       "      <td>AA_0.5C</td>\n",
       "      <td>91</td>\n",
       "      <td>2.17</td>\n",
       "    </tr>\n",
       "    <tr>\n",
       "      <th>30</th>\n",
       "      <td>AA_0.5C</td>\n",
       "      <td>91</td>\n",
       "      <td>2.22</td>\n",
       "    </tr>\n",
       "    <tr>\n",
       "      <th>31</th>\n",
       "      <td>AA_0.5C</td>\n",
       "      <td>91</td>\n",
       "      <td>2.21</td>\n",
       "    </tr>\n",
       "    <tr>\n",
       "      <th>32</th>\n",
       "      <td>AA_1.0C</td>\n",
       "      <td>91</td>\n",
       "      <td>2.15</td>\n",
       "    </tr>\n",
       "    <tr>\n",
       "      <th>33</th>\n",
       "      <td>AA_1.0C</td>\n",
       "      <td>91</td>\n",
       "      <td>2.19</td>\n",
       "    </tr>\n",
       "    <tr>\n",
       "      <th>34</th>\n",
       "      <td>AA_1.0C</td>\n",
       "      <td>91</td>\n",
       "      <td>2.21</td>\n",
       "    </tr>\n",
       "    <tr>\n",
       "      <th>35</th>\n",
       "      <td>AA_1.0C</td>\n",
       "      <td>91</td>\n",
       "      <td>2.15</td>\n",
       "    </tr>\n",
       "  </tbody>\n",
       "</table>\n",
       "</div>"
      ],
      "text/plain": [
       "    Formula  Days   MEA\n",
       "0       A_N     7  2.16\n",
       "1       A_N     7  2.16\n",
       "2       A_N     7  2.18\n",
       "3       A_N     7  2.18\n",
       "4   AA_0.5C     7  2.16\n",
       "5   AA_0.5C     7  2.17\n",
       "6   AA_0.5C     7  2.16\n",
       "7   AA_0.5C     7  2.16\n",
       "8   AA_1.0C     7  2.16\n",
       "9   AA_1.0C     7  2.13\n",
       "10  AA_1.0C     7  2.16\n",
       "11  AA_1.0C     7  2.15\n",
       "12      A_N    28  2.15\n",
       "13      A_N    28  2.16\n",
       "14      A_N    28  2.14\n",
       "15      A_N    28  2.16\n",
       "16  AA_0.5C    28  2.16\n",
       "17  AA_0.5C    28  2.18\n",
       "18  AA_0.5C    28  2.16\n",
       "19  AA_0.5C    28  2.18\n",
       "20  AA_1.0C    28  2.16\n",
       "21  AA_1.0C    28  2.15\n",
       "22  AA_1.0C    28  2.18\n",
       "23  AA_1.0C    28  2.20\n",
       "24      A_N    91  2.16\n",
       "25      A_N    91  2.19\n",
       "26      A_N    91  2.18\n",
       "27      A_N    91  2.14\n",
       "28  AA_0.5C    91  2.18\n",
       "29  AA_0.5C    91  2.17\n",
       "30  AA_0.5C    91  2.22\n",
       "31  AA_0.5C    91  2.21\n",
       "32  AA_1.0C    91  2.15\n",
       "33  AA_1.0C    91  2.19\n",
       "34  AA_1.0C    91  2.21\n",
       "35  AA_1.0C    91  2.15"
      ]
     },
     "execution_count": 6,
     "metadata": {},
     "output_type": "execute_result"
    }
   ],
   "source": [
    "mea_etapa2_ingles = pd.read_csv(\"mea_etapa2_ingles.csv\")\n",
    "rfta_etapa2_ingles = pd.read_csv(\"rfta_etapa2_ingles.csv\")\n",
    "rcta_etapa2_ingles = pd.read_csv(\"rcta_etapa2_ingles.csv\")\n",
    "mea_etapa2_ingles"
   ]
  },
  {
   "cell_type": "code",
   "execution_count": 8,
   "metadata": {},
   "outputs": [
    {
     "data": {
      "image/png": "[encoded data removed]",
      "text/plain": [
       "<Figure size 587.25x360 with 1 Axes>"
      ]
     },
     "metadata": {
      "needs_background": "light"
     },
     "output_type": "display_data"
    }
   ],
   "source": [
    "sns.catplot(\n",
    "    data=mea_etapa2_ingles,\n",
    "    kind=\"bar\",\n",
    "    x=\"Formula\",\n",
    "    y=\"MEA\",\n",
    "    hue=\"Days\",\n",
    "    ci=\"sd\",\n",
    "    palette=\"Greys\",\n",
    "    alpha=0.7,\n",
    "    capsize=0.1,\n",
    "    errwidth=0.8,\n",
    "    height=5,\n",
    "    aspect=1.5,\n",
    ")\n",
    "plt.ylabel(\"Density (g/cm³)\")\n",
    "plt.xlabel(\"Formulation\")\n",
    "plt.ylim([1.8, 2.3])\n",
    "plt.savefig(\"DA - etapa 2 - final - ingles.svg\")\n",
    "plt.show()"
   ]
  },
  {
   "cell_type": "code",
   "execution_count": 9,
   "metadata": {},
   "outputs": [
    {
     "data": {
      "image/png": "[encoded data removed]",
      "text/plain": [
       "<Figure size 587.25x360 with 1 Axes>"
      ]
     },
     "metadata": {
      "needs_background": "light"
     },
     "output_type": "display_data"
    }
   ],
   "source": [
    "sns.catplot(\n",
    "    data=rfta_etapa2_ingles,\n",
    "    kind=\"bar\",\n",
    "    x=\"Formula\",\n",
    "    y=\"RFTA\",\n",
    "    hue=\"Days\",\n",
    "    ci=\"sd\",\n",
    "    palette=\"Greys\",\n",
    "    alpha=0.7,\n",
    "    capsize=0.1,\n",
    "    errwidth=0.8,\n",
    "    height=5,\n",
    "    aspect=1.5,\n",
    ")\n",
    "plt.ylabel(\"Flexural strength (MPa)\")\n",
    "plt.xlabel(\"Formulation\")\n",
    "plt.savefig(\"RFTA - etapa 2 - final - ingles.svg\")\n",
    "plt.show()"
   ]
  },
  {
   "cell_type": "code",
   "execution_count": 10,
   "metadata": {},
   "outputs": [
    {
     "data": {
      "image/png": "[encoded data removed]",
      "text/plain": [
       "<Figure size 587.25x360 with 1 Axes>"
      ]
     },
     "metadata": {
      "needs_background": "light"
     },
     "output_type": "display_data"
    }
   ],
   "source": [
    "sns.catplot(\n",
    "    data=rcta_etapa2_ingles,\n",
    "    kind=\"bar\",\n",
    "    x=\"Formula\",\n",
    "    y=\"RCTA\",\n",
    "    hue=\"Days\",\n",
    "    ci=\"sd\",\n",
    "    palette=\"Greys\",\n",
    "    alpha=0.7,\n",
    "    capsize=0.1,\n",
    "    errwidth=0.8,\n",
    "    height=5,\n",
    "    aspect=1.5,\n",
    ")\n",
    "plt.ylabel(\"Compression strength (MPa)\")\n",
    "plt.xlabel(\"Formulation\")\n",
    "plt.savefig(\"RCTA - etapa 2 - final - ingles.svg\")\n",
    "plt.show()"
   ]
  },
  {
   "cell_type": "code",
   "execution_count": null,
   "metadata": {},
   "outputs": [],
   "source": []
  }
 ],
 "metadata": {
  "kernelspec": {
   "display_name": "Python 3",
   "language": "python",
   "name": "python3"
  },
  "language_info": {
   "codemirror_mode": {
    "name": "ipython",
    "version": 3
   },
   "file_extension": ".py",
   "mimetype": "text/x-python",
   "name": "python",
   "nbconvert_exporter": "python",
   "pygments_lexer": "ipython3",
   "version": "3.7.4"
  }
 },
 "nbformat": 4,
 "nbformat_minor": 2
}
