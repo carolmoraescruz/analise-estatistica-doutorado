{
 "cells": [
  {
   "cell_type": "code",
   "execution_count": null,
   "metadata": {},
   "outputs": [],
   "source": [
    "import pandas as pd\n",
    "import seaborn as sns\n",
    "import matplotlib.pyplot as plt\n",
    "\n",
    "sns.set_style('ticks')"
   ]
  },
  {
   "cell_type": "markdown",
   "metadata": {},
   "source": [
    "## Gráficos unificados - 7, 28 e 91 dias"
   ]
  },
  {
   "cell_type": "code",
   "execution_count": null,
   "metadata": {},
   "outputs": [],
   "source": [
    "mea_etapa2 = pd.read_csv('mea_etapa2_port.csv')\n",
    "rfta_etapa2 = pd.read_csv('rfta_etapa2_port.csv')\n",
    "rcta_etapa2 = pd.read_csv('rcta_etapa2_port.csv')\n",
    "rcta_etapa2"
   ]
  },
  {
   "cell_type": "code",
   "execution_count": null,
   "metadata": {},
   "outputs": [],
   "source": [
    "sns.catplot(\n",
    "    data=mea_etapa2,\n",
    "    kind=\"bar\",\n",
    "    x=\"Fórmula\",\n",
    "    y=\"MEA\",\n",
    "    hue=\"Dias\",\n",
    "    ci=\"sd\",\n",
    "    palette=\"Greys\",\n",
    "    alpha=0.7,\n",
    "    capsize=0.1,\n",
    "    errwidth=0.8,\n",
    "    height=5,\n",
    "    aspect=1.5,\n",
    ")\n",
    "plt.ylabel(\"DA (g/cm³)\")\n",
    "plt.ylim([1.8, 2.3])\n",
    "plt.savefig(\"MEA - etapa 2.svg\")\n",
    "plt.show()"
   ]
  },
  {
   "cell_type": "code",
   "execution_count": null,
   "metadata": {},
   "outputs": [],
   "source": [
    "sns.catplot(\n",
    "    data=rfta_etapa2,\n",
    "    kind=\"bar\",\n",
    "    x=\"Fórmula\",\n",
    "    y=\"RFTA\",\n",
    "    hue=\"Dias\",\n",
    "    ci=\"sd\",\n",
    "    palette=\"Greys\",\n",
    "    alpha=0.7,\n",
    "    capsize=0.1,\n",
    "    errwidth=0.8,\n",
    "    height=5,\n",
    "    aspect=1.5,\n",
    ")\n",
    "plt.ylabel(\"RFTA (MPa)\")\n",
    "plt.savefig(\"RFTA - etapa 2.svg\")\n",
    "plt.show()"
   ]
  },
  {
   "cell_type": "code",
   "execution_count": null,
   "metadata": {
    "scrolled": false
   },
   "outputs": [],
   "source": [
    "sns.catplot(\n",
    "    data=rcta_etapa2,\n",
    "    kind=\"bar\",\n",
    "    x=\"Fórmula\",\n",
    "    y=\"RCTA\",\n",
    "    hue=\"Dias\",\n",
    "    ci=\"sd\",\n",
    "    palette=\"Greys\",\n",
    "    alpha=0.7,\n",
    "    capsize=0.1,\n",
    "    errwidth=0.8,\n",
    "    height=5,\n",
    "    aspect=1.5,\n",
    ")\n",
    "plt.ylabel(\"RCTA (MPa)\")\n",
    "plt.savefig(\"RCTA - etapa 2.svg\")\n",
    "plt.show()"
   ]
  },
  {
   "cell_type": "markdown",
   "metadata": {},
   "source": [
    "## Gráficos do artigo (inglês) - 7, 28 e 91 dias"
   ]
  },
  {
   "cell_type": "code",
   "execution_count": null,
   "metadata": {},
   "outputs": [],
   "source": [
    "mea_etapa2_ingles = pd.read_csv(\"mea_etapa2_ingles.csv\")\n",
    "rfta_etapa2_ingles = pd.read_csv(\"rfta_etapa2_ingles.csv\")\n",
    "rcta_etapa2_ingles = pd.read_csv(\"rcta_etapa2_ingles.csv\")\n",
    "mea_etapa2_ingles"
   ]
  },
  {
   "cell_type": "code",
   "execution_count": null,
   "metadata": {},
   "outputs": [],
   "source": [
    "sns.catplot(\n",
    "    data=mea_etapa2_ingles,\n",
    "    kind=\"bar\",\n",
    "    x=\"Formulation\",\n",
    "    y=\"MEA\",\n",
    "    hue=\"Days\",\n",
    "    ci=\"sd\",\n",
    "    palette=\"Greys\",\n",
    "    alpha=0.7,\n",
    "    capsize=0.1,\n",
    "    errwidth=0.8,\n",
    "    height=5,\n",
    "    aspect=1.5,\n",
    ")\n",
    "plt.ylabel(\"Density (g/cm³)\")\n",
    "plt.xlabel(\"Formulation\")\n",
    "plt.ylim([1.8, 2.3])\n",
    "plt.savefig(\"DA - etapa 2 - final - ingles.svg\")\n",
    "plt.show()"
   ]
  },
  {
   "cell_type": "code",
   "execution_count": null,
   "metadata": {},
   "outputs": [],
   "source": [
    "sns.catplot(\n",
    "    data=rfta_etapa2_ingles,\n",
    "    kind=\"bar\",\n",
    "    x=\"Formulation\",\n",
    "    y=\"RFTA\",\n",
    "    hue=\"Days\",\n",
    "    ci=\"sd\",\n",
    "    palette=\"Greys\",\n",
    "    alpha=0.7,\n",
    "    capsize=0.1,\n",
    "    errwidth=0.8,\n",
    "    height=5,\n",
    "    aspect=1.5,\n",
    ")\n",
    "plt.ylabel(\"Flexural strength (MPa)\")\n",
    "plt.xlabel(\"Formulation\")\n",
    "plt.savefig(\"RFTA - etapa 2 - final - ingles.svg\")\n",
    "plt.show()"
   ]
  },
  {
   "cell_type": "code",
   "execution_count": null,
   "metadata": {},
   "outputs": [],
   "source": [
    "sns.catplot(\n",
    "    data=rcta_etapa2_ingles,\n",
    "    kind=\"bar\",\n",
    "    x=\"Formulation\",\n",
    "    y=\"RCTA\",\n",
    "    hue=\"Days\",\n",
    "    ci=\"sd\",\n",
    "    palette=\"Greys\",\n",
    "    alpha=0.7,\n",
    "    capsize=0.1,\n",
    "    errwidth=0.8,\n",
    "    height=5,\n",
    "    aspect=1.5,\n",
    ")\n",
    "plt.ylabel(\"Compression strength (MPa)\")\n",
    "plt.xlabel(\"Formulation\")\n",
    "plt.savefig(\"RCTA - final - ingles.svg\")\n",
    "plt.show()"
   ]
  },
  {
   "cell_type": "code",
   "execution_count": null,
   "metadata": {},
   "outputs": [],
   "source": []
  }
 ],
 "metadata": {
  "kernelspec": {
   "display_name": "Python 3",
   "language": "python",
   "name": "python3"
  },
  "language_info": {
   "codemirror_mode": {
    "name": "ipython",
    "version": 3
   },
   "file_extension": ".py",
   "mimetype": "text/x-python",
   "name": "python",
   "nbconvert_exporter": "python",
   "pygments_lexer": "ipython3",
   "version": "3.7.4"
  }
 },
 "nbformat": 4,
 "nbformat_minor": 2
}
